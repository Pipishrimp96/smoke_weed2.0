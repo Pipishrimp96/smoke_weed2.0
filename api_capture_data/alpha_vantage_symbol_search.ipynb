{
 "cells": [
  {
   "cell_type": "code",
   "execution_count": 11,
   "metadata": {},
   "outputs": [
    {
     "name": "stdout",
     "output_type": "stream",
     "text": [
      "{'bestMatches': [{'1. symbol': 'NQCI', '2. name': 'National Qualty Care', '3. type': 'Equity', '4. region': 'United States', '5. marketOpen': '09:30', '6. marketClose': '16:00', '7. timezone': 'UTC-04', '8. currency': 'USD', '9. matchScore': '0.6667'}, {'1. symbol': 'NQ9.FRK', '2. name': 'Nexity SA', '3. type': 'Equity', '4. region': 'Frankfurt', '5. marketOpen': '08:00', '6. marketClose': '20:00', '7. timezone': 'UTC+02', '8. currency': 'EUR', '9. matchScore': '0.5714'}, {'1. symbol': 'NQA.FRK', '2. name': 'NOTE AB SK-50', '3. type': 'Equity', '4. region': 'Frankfurt', '5. marketOpen': '08:00', '6. marketClose': '20:00', '7. timezone': 'UTC+02', '8. currency': 'EUR', '9. matchScore': '0.5714'}, {'1. symbol': 'NQCAX', '2. name': 'NUVEEN LARGE CAP VALUE FUND CLASS A', '3. type': 'Mutual Fund', '4. region': 'United States', '5. marketOpen': '09:30', '6. marketClose': '16:00', '7. timezone': 'UTC-04', '8. currency': 'USD', '9. matchScore': '0.5714'}, {'1. symbol': 'NQCCX', '2. name': 'NUVEEN LARGE CAP VALUE FUND CLASS C', '3. type': 'Mutual Fund', '4. region': 'United States', '5. marketOpen': '09:30', '6. marketClose': '16:00', '7. timezone': 'UTC-04', '8. currency': 'USD', '9. matchScore': '0.5714'}, {'1. symbol': 'NQCFX', '2. name': 'NORTHQUEST CAPITAL FUND INC ', '3. type': 'Mutual Fund', '4. region': 'United States', '5. marketOpen': '09:30', '6. marketClose': '16:00', '7. timezone': 'UTC-04', '8. currency': 'USD', '9. matchScore': '0.5714'}, {'1. symbol': 'NQCQX', '2. name': 'Nuveen NWQ Large-Cap Value Fund Class R3', '3. type': 'Mutual Fund', '4. region': 'United States', '5. marketOpen': '09:30', '6. marketClose': '16:00', '7. timezone': 'UTC-04', '8. currency': 'USD', '9. matchScore': '0.5714'}, {'1. symbol': 'NQCRX', '2. name': 'NUVEEN LARGE CAP VALUE FUND CLASS I', '3. type': 'Mutual Fund', '4. region': 'United States', '5. marketOpen': '09:30', '6. marketClose': '16:00', '7. timezone': 'UTC-04', '8. currency': 'USD', '9. matchScore': '0.5714'}, {'1. symbol': 'NQFNSX', '2. name': 'Advisors Disciplined Trust Unit 1898 Nasdaq Q-50 Index Ptf Ser 2018-4Q Cash', '3. type': 'Mutual Fund', '4. region': 'United States', '5. marketOpen': '09:30', '6. marketClose': '16:00', '7. timezone': 'UTC-04', '8. currency': 'USD', '9. matchScore': '0.5000'}, {'1. symbol': 'NQFNYX', '2. name': 'Advisors Disciplined Trust Unit 1983 NASDAQ Q50 Index SM Ptf Ser 20201Q Cash', '3. type': 'Mutual Fund', '4. region': 'United States', '5. marketOpen': '09:30', '6. marketClose': '16:00', '7. timezone': 'UTC-04', '8. currency': 'USD', '9. matchScore': '0.5000'}]}\n"
     ]
    }
   ],
   "source": [
    "import requests\n",
    "\n",
    "# 替换为你的API密钥\n",
    "api_key = '2HPUREQ72YO9MTMW'\n",
    "\n",
    "# 定义搜索函数\n",
    "def search_symbol(keywords):\n",
    "    url = f'https://www.alphavantage.co/query?function=SYMBOL_SEARCH&keywords={keywords}&apikey={api_key}'\n",
    "    response = requests.get(url)\n",
    "    data = response.json()\n",
    "    return data\n",
    "\n",
    "# 搜索关键词\n",
    "keywords = 'NQ'\n",
    "result = search_symbol(keywords)\n",
    "\n",
    "# 打印结果\n",
    "print(result)"
   ]
  }
 ],
 "metadata": {
  "kernelspec": {
   "display_name": "Python 3",
   "language": "python",
   "name": "python3"
  },
  "language_info": {
   "codemirror_mode": {
    "name": "ipython",
    "version": 3
   },
   "file_extension": ".py",
   "mimetype": "text/x-python",
   "name": "python",
   "nbconvert_exporter": "python",
   "pygments_lexer": "ipython3",
   "version": "3.12.0"
  }
 },
 "nbformat": 4,
 "nbformat_minor": 2
}
