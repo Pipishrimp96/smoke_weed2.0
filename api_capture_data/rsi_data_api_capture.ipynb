{
 "cells": [
  {
   "cell_type": "code",
   "execution_count": 1,
   "metadata": {},
   "outputs": [],
   "source": [
    "import pandas as pd\n",
    "import time\n",
    "from alpha_vantage.techindicators import TechIndicators\n",
    "from datetime import datetime, timedelta\n",
    "\n"
   ]
  },
  {
   "cell_type": "code",
   "execution_count": 2,
   "metadata": {},
   "outputs": [],
   "source": [
    "# 替换为你的API密钥\n",
    "api_key = '2HPUREQ72YO9MTMW'\n",
    "\n",
    "# 创建TechIndicators对象\n",
    "ti = TechIndicators(key=api_key, output_format='pandas')\n",
    "\n",
    "# 定义获取RSI数据的函数\n",
    "def get_rsi_data(symbol, interval, time_period, series_type, start_date, end_date):\n",
    "    all_data = pd.DataFrame()\n",
    "    current_date = start_date\n",
    "    \n",
    "    while current_date < end_date:\n",
    "        try:\n",
    "            # 计算月份\n",
    "            month_str = current_date.strftime('%Y-%m')\n",
    "            \n",
    "            # 获取RSI数据\n",
    "            data, meta_data = ti.get_rsi(symbol=symbol, interval=interval, time_period=time_period, series_type=series_type, month=month_str)\n",
    "            data['date'] = pd.to_datetime(data.index)\n",
    "            data = data[(data['date'] >= current_date.strftime('%Y-%m-%d')) & \n",
    "                        (data['date'] < (current_date + timedelta(days=30)).strftime('%Y-%m-%d'))]\n",
    "            all_data = pd.concat([all_data, data])\n",
    "            \n",
    "            # 更新日期\n",
    "            current_date += timedelta(days=30)\n",
    "            \n",
    "            # 避免API调用频率限制\n",
    "            time.sleep(12)  # Alpha Vantage限制每分钟最多5次请求\n",
    "        except Exception as e:\n",
    "            print(f\"Error fetching data for {current_date}: {e}\")\n",
    "            # 等待一段时间后重试\n",
    "            time.sleep(60)\n",
    "    \n",
    "    return all_data\n",
    "\n"
   ]
  },
  {
   "cell_type": "code",
   "execution_count": null,
   "metadata": {},
   "outputs": [],
   "source": [
    "# 定义参数\n",
    "symbol = 'NASDAQ100'  # 纳斯达克100指数代码\n",
    "start_date = datetime.now() - timedelta(days=365*5)\n",
    "end_date = datetime.now()\n",
    "\n",
    "# 获取不同时间间隔的RSI数据\n",
    "rsi_1min = get_rsi_data(symbol, interval='1min', time_period=14, series_type='close', start_date=start_date, end_date=end_date)\n",
    "rsi_5min = get_rsi_data(symbol, interval='5min', time_period=14, series_type='close', start_date=start_date, end_date=end_date)\n",
    "rsi_30min = get_rsi_data(symbol, interval='30min', time_period=14, series_type='close', start_date=start_date, end_date=end_date)\n",
    "rsi_1h = get_rsi_data(symbol, interval='60min', time_period=14, series_type='close', start_date=start_date, end_date=end_date)\n",
    "rsi_4h = get_rsi_data(symbol, interval='60min', time_period=14, series_type='close', start_date=start_date, end_date=end_date)\n",
    "\n",
    "# 合并数据\n",
    "all_rsi = rsi_1min.join(rsi_5min, lsuffix='_1min', rsuffix='_5min')\n",
    "all_rsi = all_rsi.join(rsi_30min, rsuffix='_30min')\n",
    "all_rsi = all_rsi.join(rsi_1h, rsuffix='_1h')\n",
    "all_rsi = all_rsi.join(rsi_4h, rsuffix='_4h')\n",
    "\n",
    "# 保存数据到CSV文件\n",
    "all_rsi.to_csv(f'{symbol}_5year_rsi_data.csv')\n",
    "print(f'Data saved to {symbol}_5year_rsi_data.csv')\n",
    "print(all_rsi.head())"
   ]
  }
 ],
 "metadata": {
  "kernelspec": {
   "display_name": "Python 3",
   "language": "python",
   "name": "python3"
  },
  "language_info": {
   "codemirror_mode": {
    "name": "ipython",
    "version": 3
   },
   "file_extension": ".py",
   "mimetype": "text/x-python",
   "name": "python",
   "nbconvert_exporter": "python",
   "pygments_lexer": "ipython3",
   "version": "3.12.0"
  }
 },
 "nbformat": 4,
 "nbformat_minor": 2
}
